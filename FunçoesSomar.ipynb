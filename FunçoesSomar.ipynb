def sum(a, b):
    if a < b:
         print(f'O Numero-1  ({a}) tem que ser maior que o Numero-2 ({b})')  
    else:
        return (a+b)
        
a = int(input('Numero-1: '))
b = int(input('Numero-2: '))

print({sum(a, b)})