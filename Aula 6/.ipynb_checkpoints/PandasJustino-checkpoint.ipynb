{
 "cells": [
  {
   "cell_type": "code",
   "execution_count": 2,
   "id": "d5af3e3c-d6de-4ec2-b043-6bfbb24b3bd8",
   "metadata": {},
   "outputs": [],
   "source": [
    "import pandas as pd\n",
    "import numpy as np"
   ]
  },
  {
   "cell_type": "code",
   "execution_count": 3,
   "id": "04bb083b-2733-43e0-9a06-14013a1be43b",
   "metadata": {},
   "outputs": [
    {
     "name": "stdout",
     "output_type": "stream",
     "text": [
      "[1976.0, 1980.0, 1984.0, 1988.0, 1992.0, 1996.0, 2000.0, 2004.0, 2008.0]\n"
     ]
    }
   ],
   "source": [
    "dados = pd.read_csv('base/Summer-Olympic-medals-1976-to-2008.csv')\n",
    "#crinado uma lista de anos unicos onde removemos os NaN\n",
    "    #indice = list(dados.Year.dropna().unique()) \n",
    "\n",
    "ano  = pd.Series(dados['Year'])\n",
    "# Com este arquivo, construir um objeto de Serie cronológica com o índice igual ao ano dos jogos olímpicos\n",
    "print (list(ano.dropna().unique()))"
   ]
  },
  {
   "cell_type": "code",
   "execution_count": 4,
   "id": "f28bac1f-d57b-463e-8b8d-75bb1ad66ea9",
   "metadata": {},
   "outputs": [
    {
     "name": "stdout",
     "output_type": "stream",
     "text": [
      "0                 [KÖHLER,  Christa]\n",
      "1             [KOSENKOV,  Aleksandr]\n",
      "2            [BOGGS,  Philip George]\n",
      "3        [CAGNOTTO,  Giorgio Franco]\n",
      "4          [WILSON,  Deborah Keplar]\n",
      "                    ...             \n",
      "15428          [GUENOT,  Christophe]\n",
      "15429         [KVIRKELIA,  Manuchar]\n",
      "15430            [RAHIMOV,  Vitaliy]\n",
      "15431              [GUENOT,  Steeve]\n",
      "15432               [LOPEZ,  Mijain]\n",
      "Name: Athlete, Length: 15433, dtype: object\n"
     ]
    }
   ],
   "source": [
    "separando_nome  = dados['Athlete']\n",
    "separando_nome = separando_nome.str.split(',') \n",
    "print (separando_nome)"
   ]
  },
  {
   "cell_type": "code",
   "execution_count": 7,
   "id": "a33b354c-ed3a-4620-afcc-055deed1dd89",
   "metadata": {},
   "outputs": [
    {
     "name": "stdout",
     "output_type": "stream",
     "text": [
      "           Country  Total\n",
      "117  United States   1992\n"
     ]
    }
   ],
   "source": [
    "total_medalhas = dados.groupby(['Country']).size().reset_index(name='Total')\n",
    "total_medalhas = total_medalhas.sort_values('Total', ascending=False)\n",
    "print(total_medalhas.head(1))"
   ]
  },
  {
   "cell_type": "code",
   "execution_count": 10,
   "id": "ef792b84-db49-486a-aff9-93e53d6980de",
   "metadata": {},
   "outputs": [
    {
     "data": {
      "text/html": [
       "<div>\n",
       "<style scoped>\n",
       "    .dataframe tbody tr th:only-of-type {\n",
       "        vertical-align: middle;\n",
       "    }\n",
       "\n",
       "    .dataframe tbody tr th {\n",
       "        vertical-align: top;\n",
       "    }\n",
       "\n",
       "    .dataframe thead th {\n",
       "        text-align: right;\n",
       "    }\n",
       "</style>\n",
       "<table border=\"1\" class=\"dataframe\">\n",
       "  <thead>\n",
       "    <tr style=\"text-align: right;\">\n",
       "      <th></th>\n",
       "      <th>Year</th>\n",
       "      <th>Total_medalhas</th>\n",
       "    </tr>\n",
       "  </thead>\n",
       "  <tbody>\n",
       "    <tr>\n",
       "      <th>0</th>\n",
       "      <td>1976.0</td>\n",
       "      <td>924</td>\n",
       "    </tr>\n",
       "    <tr>\n",
       "      <th>1</th>\n",
       "      <td>1980.0</td>\n",
       "      <td>958</td>\n",
       "    </tr>\n",
       "    <tr>\n",
       "      <th>2</th>\n",
       "      <td>1984.0</td>\n",
       "      <td>973</td>\n",
       "    </tr>\n",
       "    <tr>\n",
       "      <th>3</th>\n",
       "      <td>1988.0</td>\n",
       "      <td>1011</td>\n",
       "    </tr>\n",
       "    <tr>\n",
       "      <th>4</th>\n",
       "      <td>1992.0</td>\n",
       "      <td>1105</td>\n",
       "    </tr>\n",
       "    <tr>\n",
       "      <th>5</th>\n",
       "      <td>1996.0</td>\n",
       "      <td>1082</td>\n",
       "    </tr>\n",
       "    <tr>\n",
       "      <th>6</th>\n",
       "      <td>2000.0</td>\n",
       "      <td>1126</td>\n",
       "    </tr>\n",
       "    <tr>\n",
       "      <th>7</th>\n",
       "      <td>2004.0</td>\n",
       "      <td>1099</td>\n",
       "    </tr>\n",
       "    <tr>\n",
       "      <th>8</th>\n",
       "      <td>2008.0</td>\n",
       "      <td>1110</td>\n",
       "    </tr>\n",
       "  </tbody>\n",
       "</table>\n",
       "</div>"
      ],
      "text/plain": [
       "     Year  Total_medalhas\n",
       "0  1976.0             924\n",
       "1  1980.0             958\n",
       "2  1984.0             973\n",
       "3  1988.0            1011\n",
       "4  1992.0            1105\n",
       "5  1996.0            1082\n",
       "6  2000.0            1126\n",
       "7  2004.0            1099\n",
       "8  2008.0            1110"
      ]
     },
     "execution_count": 10,
     "metadata": {},
     "output_type": "execute_result"
    }
   ],
   "source": [
    "tabela =  pd.DataFrame(dados)\n",
    "tabela  =tabela.loc[(tabela['Gender'] == 'Men',('Year','Medal'))]\n",
    "tabelas_medalhas = tabela.groupby(['Year']).size().reset_index(name='Total_medalhas')\n",
    "tabelas_medalhas"
   ]
  },
  {
   "cell_type": "code",
   "execution_count": null,
   "id": "496eeac3-392b-4344-b55a-0a680d1912f6",
   "metadata": {},
   "outputs": [],
   "source": []
  },
  {
   "cell_type": "code",
   "execution_count": null,
   "id": "21c949a9-60ef-4e86-8e67-cf5b8cf5493b",
   "metadata": {},
   "outputs": [],
   "source": []
  },
  {
   "cell_type": "code",
   "execution_count": null,
   "id": "f1e53bb3-c94c-4f01-9b0e-cfbc68ad7c13",
   "metadata": {},
   "outputs": [],
   "source": []
  }
 ],
 "metadata": {
  "kernelspec": {
   "display_name": "Python 3 (ipykernel)",
   "language": "python",
   "name": "python3"
  },
  "language_info": {
   "codemirror_mode": {
    "name": "ipython",
    "version": 3
   },
   "file_extension": ".py",
   "mimetype": "text/x-python",
   "name": "python",
   "nbconvert_exporter": "python",
   "pygments_lexer": "ipython3",
   "version": "3.9.7"
  }
 },
 "nbformat": 4,
 "nbformat_minor": 5
}
