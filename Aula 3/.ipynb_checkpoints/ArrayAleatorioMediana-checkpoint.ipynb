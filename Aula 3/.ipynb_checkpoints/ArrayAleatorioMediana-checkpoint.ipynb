{
 "cells": [
  {
   "cell_type": "code",
   "execution_count": 4,
   "id": "ef9aea41-6185-499d-aa3e-295ee6753b9a",
   "metadata": {},
   "outputs": [
    {
     "name": "stdout",
     "output_type": "stream",
     "text": [
      "[60 88 58 89 61 19  8 48 16 44 99 90 96 13 33 42 48 57 96 44 40 65 47  0\n",
      " 17 19 12 42 64 79 48 24 85 17 38  3 56 15 78 63 47 56 86 35  6 26 33 31\n",
      " 32 47  1 10 25 22  7 93 49 25 60 26 51 72  2 87 11 89 88 32 88 13 50 90\n",
      " 80 16 36 39 52  0 54  8 72  9 11 81 49 51 78 79 58 82 82 58  1 19 16 55\n",
      " 38 62 19 55]\n",
      "-----------------------------\n",
      "Mediana do array\n",
      "47.0\n"
     ]
    }
   ],
   "source": [
    "import numpy as np\n",
    "\n",
    "npaa =  np.random.randint(100,size=(100))\n",
    "\n",
    "print(npaa)\n",
    "print('-----------------------------')\n",
    "print('Mediana do array')\n",
    "print(np.median(npaa))"
   ]
  },
  {
   "cell_type": "code",
   "execution_count": null,
   "id": "1041bac2-7c6e-4483-a7aa-c7e368c27c6e",
   "metadata": {},
   "outputs": [],
   "source": []
  }
 ],
 "metadata": {
  "kernelspec": {
   "display_name": "Python 3 (ipykernel)",
   "language": "python",
   "name": "python3"
  },
  "language_info": {
   "codemirror_mode": {
    "name": "ipython",
    "version": 3
   },
   "file_extension": ".py",
   "mimetype": "text/x-python",
   "name": "python",
   "nbconvert_exporter": "python",
   "pygments_lexer": "ipython3",
   "version": "3.9.7"
  }
 },
 "nbformat": 4,
 "nbformat_minor": 5
}
