{
 "cells": [
  {
   "cell_type": "raw",
   "id": "bb8003be-f654-410a-939e-92f65b9e5af5",
   "metadata": {},
   "source": []
  },
  {
   "cell_type": "code",
   "execution_count": 47,
   "id": "34b1ec8e-8cb4-41c5-a375-fd4e7858eef1",
   "metadata": {},
   "outputs": [
    {
     "name": "stdout",
     "output_type": "stream",
     "text": [
      "--------------Array-----------------\n",
      "[ 1  2  3  4  5  6  7  8  9 10]\n",
      "--------------Media do fatorial-----------------\n",
      "362880.0\n",
      "--------------Mediana--------------------------\n",
      "5.5\n",
      "--------------Desvio Padrao----------------------\n",
      "2.8722813232690143\n",
      "--------------Soma----------------------\n",
      "55\n"
     ]
    }
   ],
   "source": [
    "#execico 2\n",
    "import numpy as np\n",
    "\n",
    "Array_fatorial = np.arange(1,11)\n",
    "print ('--------------Array-----------------')\n",
    "print(Array_fatorial)\n",
    "\n",
    "fator = 1\n",
    "\n",
    "for i in Array_fatorial:\n",
    "    fator =fator * i\n",
    "\n",
    "Media =  fator / np.size(Array_fatorial)\n",
    "\n",
    "\n",
    "print ('--------------Media do fatorial-----------------')\n",
    "\n",
    "print(Media)\n",
    "#print(np.mean(Array_fatorial))\n",
    "\n",
    "print ('--------------Mediana--------------------------')\n",
    "\n",
    "Mediana = np.median( Array_fatorial)\n",
    "\n",
    "print(Mediana)\n",
    "\n",
    "print ('--------------Desvio Padrao----------------------')\n",
    "\n",
    "DesvP = np.std( Array_fatorial)\n",
    "\n",
    "print(DesvP)\n",
    "\n",
    "print ('--------------Soma----------------------')\n",
    "\n",
    "Soma = np.sum( Array_fatorial)\n",
    "\n",
    "print(Soma)\n"
   ]
  },
  {
   "cell_type": "code",
   "execution_count": 48,
   "id": "1a86d605-d0ba-4e94-bddb-07d61d0f0805",
   "metadata": {},
   "outputs": [
    {
     "name": "stdout",
     "output_type": "stream",
     "text": [
      "--------------Array-----------------\n",
      "[ 1  2  3  4  5  6  7  8  9 10]\n",
      "--------------Media do fatorial-----------------\n",
      "5.5\n",
      "--------------Mediana--------------------------\n",
      "5.5\n",
      "--------------Desvio Padrao----------------------\n",
      "2.8722813232690143\n",
      "--------------Soma----------------------\n",
      "55\n"
     ]
    }
   ],
   "source": [
    "Array_Soma = np.arange(1,11)\n",
    "print ('--------------Array-----------------')\n",
    "print(Array_Soma)\n",
    "\n",
    "soma = 0\n",
    "\n",
    "for i in Array_Soma:\n",
    "    soma += i\n",
    "\n",
    "print ('--------------Media do fatorial-----------------')\n",
    " \n",
    "print(np.mean(Array_Soma))\n",
    "\n",
    "print ('--------------Mediana--------------------------')\n",
    "\n",
    "Mediana = np.median( Array_Soma)\n",
    "\n",
    "print(Mediana)\n",
    "\n",
    "print ('--------------Desvio Padrao----------------------')\n",
    "\n",
    "DesvP = np.std( Array_Soma)\n",
    "\n",
    "print(DesvP)\n",
    "\n",
    "print ('--------------Soma----------------------')\n",
    "\n",
    "Soma = np.sum( Array_Soma)\n",
    "\n",
    "print(Soma)"
   ]
  },
  {
   "cell_type": "code",
   "execution_count": 52,
   "id": "6f05a164-eb17-4077-8d60-18f1f970e846",
   "metadata": {},
   "outputs": [
    {
     "name": "stdout",
     "output_type": "stream",
     "text": [
      "--------------Array-----------------\n",
      "[ 1  2  3  4  5  6  7  8  9 10]\n",
      "[ 1 10  3  4  5  6  7  8  9 10]\n"
     ]
    }
   ],
   "source": [
    "Array = np.arange(1,11)\n",
    "print ('--------------Array-----------------')\n",
    "print(Array)\n",
    "Array[1]=10\n",
    "print (Array)"
   ]
  },
  {
   "cell_type": "code",
   "execution_count": 58,
   "id": "d00b809d-8a85-4336-b5d6-ee39136145d4",
   "metadata": {},
   "outputs": [
    {
     "ename": "IndentationError",
     "evalue": "expected an indented block (Temp/ipykernel_10892/766875896.py, line 3)",
     "output_type": "error",
     "traceback": [
      "\u001b[1;36m  File \u001b[1;32m\"C:\\Users\\Admin\\AppData\\Local\\Temp/ipykernel_10892/766875896.py\"\u001b[1;36m, line \u001b[1;32m3\u001b[0m\n\u001b[1;33m    c.append(a[i]*b[i])\u001b[0m\n\u001b[1;37m    ^\u001b[0m\n\u001b[1;31mIndentationError\u001b[0m\u001b[1;31m:\u001b[0m expected an indented block\n"
     ]
    }
   ],
   "source": [
    "c = []\n",
    "for i in range(len(a)):\n",
    "c.append(a[i]*b[i])\n"
   ]
  },
  {
   "cell_type": "code",
   "execution_count": null,
   "id": "9db93f1b-1dcd-4172-9eb8-09dc408331cc",
   "metadata": {},
   "outputs": [],
   "source": []
  },
  {
   "cell_type": "code",
   "execution_count": null,
   "id": "4c7eb516-35a6-447f-9294-357cf881e8fc",
   "metadata": {},
   "outputs": [],
   "source": []
  }
 ],
 "metadata": {
  "kernelspec": {
   "display_name": "Python 3 (ipykernel)",
   "language": "python",
   "name": "python3"
  },
  "language_info": {
   "codemirror_mode": {
    "name": "ipython",
    "version": 3
   },
   "file_extension": ".py",
   "mimetype": "text/x-python",
   "name": "python",
   "nbconvert_exporter": "python",
   "pygments_lexer": "ipython3",
   "version": "3.9.7"
  }
 },
 "nbformat": 4,
 "nbformat_minor": 5
}
