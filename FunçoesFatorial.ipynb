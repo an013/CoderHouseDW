def fator(a):
    fato = 1
    for i in range(1,a+1):
        fato *= i
    return fato

a = int(input('Numero para aplicar o Fatorial: '))

print(f'Fatorial de {a}  é {fator(a)}')
