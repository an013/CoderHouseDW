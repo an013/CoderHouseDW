{
 "cells": [
  {
   "cell_type": "code",
   "execution_count": 1,
   "id": "393fa4a1-c755-44e4-a16d-05c6a5071ee2",
   "metadata": {},
   "outputs": [
    {
     "name": "stdin",
     "output_type": "stream",
     "text": [
      "Numero-1:  1\n",
      "Numero-2:  2\n"
     ]
    },
    {
     "name": "stdout",
     "output_type": "stream",
     "text": [
      "O Numero-1  (1) tem que ser maior que o Numero-2 (2)\n",
      "{None}\n"
     ]
    }
   ],
   "source": [
    "def sum(a, b):\n",
    "    if a < b:\n",
    "         print(f'O Numero-1  ({a}) tem que ser maior que o Numero-2 ({b})')  \n",
    "    else:\n",
    "        return (a+b)\n",
    "        \n",
    "a = int(input('Numero-1: '))\n",
    "b = int(input('Numero-2: '))\n",
    "\n",
    "print({sum(a, b)})"
   ]
  },
  {
   "cell_type": "code",
   "execution_count": null,
   "id": "2ab80719-78c5-4f2f-885b-5144f82a0c9e",
   "metadata": {},
   "outputs": [],
   "source": []
  }
 ],
 "metadata": {
  "kernelspec": {
   "display_name": "Python 3 (ipykernel)",
   "language": "python",
   "name": "python3"
  },
  "language_info": {
   "codemirror_mode": {
    "name": "ipython",
    "version": 3
   },
   "file_extension": ".py",
   "mimetype": "text/x-python",
   "name": "python",
   "nbconvert_exporter": "python",
   "pygments_lexer": "ipython3",
   "version": "3.9.7"
  }
 },
 "nbformat": 4,
 "nbformat_minor": 5
}
