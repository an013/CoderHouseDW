{
 "cells": [
  {
   "cell_type": "code",
   "execution_count": 1,
   "id": "4172af74-11a6-4f18-abba-0be651e5c418",
   "metadata": {},
   "outputs": [
    {
     "name": "stdin",
     "output_type": "stream",
     "text": [
      "Numero para aplicar o Fatorial:  4\n"
     ]
    },
    {
     "name": "stdout",
     "output_type": "stream",
     "text": [
      "Fatorial de 4  é 24\n"
     ]
    }
   ],
   "source": [
    "def fator(a):\n",
    "    fato = 1\n",
    "    for i in range(1,a+1):\n",
    "        fato *= i\n",
    "    return fato\n",
    "\n",
    "a = int(input('Numero para aplicar o Fatorial: '))\n",
    "\n",
    "print(f'Fatorial de {a}  é {fator(a)}')\n"
   ]
  },
  {
   "cell_type": "code",
   "execution_count": null,
   "id": "de10dc88-7324-4dfb-b517-1b1c4e47720a",
   "metadata": {},
   "outputs": [],
   "source": []
  }
 ],
 "metadata": {
  "kernelspec": {
   "display_name": "Python 3 (ipykernel)",
   "language": "python",
   "name": "python3"
  },
  "language_info": {
   "codemirror_mode": {
    "name": "ipython",
    "version": 3
   },
   "file_extension": ".py",
   "mimetype": "text/x-python",
   "name": "python",
   "nbconvert_exporter": "python",
   "pygments_lexer": "ipython3",
   "version": "3.9.7"
  }
 },
 "nbformat": 4,
 "nbformat_minor": 5
}
