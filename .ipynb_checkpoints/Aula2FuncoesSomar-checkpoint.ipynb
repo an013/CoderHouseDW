{
 "cells": [
  {
   "cell_type": "code",
   "execution_count": 1,
   "id": "45d0ed7e-2362-4e05-9517-a2b34ffd6205",
   "metadata": {},
   "outputs": [
    {
     "name": "stdin",
     "output_type": "stream",
     "text": [
      "Numero para aplicar o Fatorial:  1\n"
     ]
    },
    {
     "name": "stdout",
     "output_type": "stream",
     "text": [
      "Fatorial de 1  é 1\n"
     ]
    }
   ],
   "source": [
    "def fator(a):\n",
    "    fato = 1\n",
    "    for i in range(1,a+1):\n",
    "        fato *= i\n",
    "    return fato\n",
    "\n",
    "a = int(input('Numero para aplicar o Fatorial: '))\n",
    "\n",
    "print(f'Fatorial de {a}  é {fator(a)}')"
   ]
  },
  {
   "cell_type": "code",
   "execution_count": null,
   "id": "d2f2c22b-ce2f-4c0d-84cb-56c97c6b3412",
   "metadata": {},
   "outputs": [],
   "source": []
  }
 ],
 "metadata": {
  "kernelspec": {
   "display_name": "Python 3 (ipykernel)",
   "language": "python",
   "name": "python3"
  },
  "language_info": {
   "codemirror_mode": {
    "name": "ipython",
    "version": 3
   },
   "file_extension": ".py",
   "mimetype": "text/x-python",
   "name": "python",
   "nbconvert_exporter": "python",
   "pygments_lexer": "ipython3",
   "version": "3.9.7"
  }
 },
 "nbformat": 4,
 "nbformat_minor": 5
}
